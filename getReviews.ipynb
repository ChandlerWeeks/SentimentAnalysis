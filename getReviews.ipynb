{
 "cells": [
  {
   "cell_type": "code",
   "execution_count": 6,
   "metadata": {},
   "outputs": [
    {
     "name": "stdout",
     "output_type": "stream",
     "text": [
      "Defaulting to user installation because normal site-packages is not writeable\n",
      "Requirement already satisfied: beautifulsoup4 in /Users/chandler/Library/Python/3.9/lib/python/site-packages (4.12.3)\n",
      "Requirement already satisfied: requests in /Users/chandler/Library/Python/3.9/lib/python/site-packages (2.32.3)\n",
      "Requirement already satisfied: selenium in /Users/chandler/Library/Python/3.9/lib/python/site-packages (4.30.0)\n",
      "Requirement already satisfied: pandas in /Users/chandler/Library/Python/3.9/lib/python/site-packages (2.2.3)\n",
      "Requirement already satisfied: python-dotenv in /Users/chandler/Library/Python/3.9/lib/python/site-packages (1.0.1)\n",
      "Requirement already satisfied: webdriver-manager in /Users/chandler/Library/Python/3.9/lib/python/site-packages (4.0.2)\n",
      "Requirement already satisfied: soupsieve>1.2 in /Users/chandler/Library/Python/3.9/lib/python/site-packages (from beautifulsoup4) (2.6)\n",
      "Requirement already satisfied: charset-normalizer<4,>=2 in /Users/chandler/Library/Python/3.9/lib/python/site-packages (from requests) (3.4.0)\n",
      "Requirement already satisfied: idna<4,>=2.5 in /Users/chandler/Library/Python/3.9/lib/python/site-packages (from requests) (3.10)\n",
      "Requirement already satisfied: urllib3<3,>=1.21.1 in /Users/chandler/Library/Python/3.9/lib/python/site-packages (from requests) (2.2.3)\n",
      "Requirement already satisfied: certifi>=2017.4.17 in /Users/chandler/Library/Python/3.9/lib/python/site-packages (from requests) (2024.8.30)\n",
      "Requirement already satisfied: trio~=0.17 in /Users/chandler/Library/Python/3.9/lib/python/site-packages (from selenium) (0.29.0)\n",
      "Requirement already satisfied: trio-websocket~=0.9 in /Users/chandler/Library/Python/3.9/lib/python/site-packages (from selenium) (0.12.2)\n",
      "Requirement already satisfied: typing_extensions~=4.9 in /Users/chandler/Library/Python/3.9/lib/python/site-packages (from selenium) (4.12.2)\n",
      "Requirement already satisfied: websocket-client~=1.8 in /Users/chandler/Library/Python/3.9/lib/python/site-packages (from selenium) (1.8.0)\n",
      "Requirement already satisfied: numpy>=1.22.4 in /Users/chandler/Library/Python/3.9/lib/python/site-packages (from pandas) (2.0.2)\n",
      "Requirement already satisfied: python-dateutil>=2.8.2 in /Users/chandler/Library/Python/3.9/lib/python/site-packages (from pandas) (2.9.0.post0)\n",
      "Requirement already satisfied: pytz>=2020.1 in /Users/chandler/Library/Python/3.9/lib/python/site-packages (from pandas) (2025.1)\n",
      "Requirement already satisfied: tzdata>=2022.7 in /Users/chandler/Library/Python/3.9/lib/python/site-packages (from pandas) (2025.1)\n",
      "Requirement already satisfied: packaging in /Users/chandler/Library/Python/3.9/lib/python/site-packages (from webdriver-manager) (24.1)\n",
      "Requirement already satisfied: six>=1.5 in /Applications/Xcode.app/Contents/Developer/Library/Frameworks/Python3.framework/Versions/3.9/lib/python3.9/site-packages (from python-dateutil>=2.8.2->pandas) (1.15.0)\n",
      "Requirement already satisfied: attrs>=23.2.0 in /Users/chandler/Library/Python/3.9/lib/python/site-packages (from trio~=0.17->selenium) (24.2.0)\n",
      "Requirement already satisfied: sortedcontainers in /Users/chandler/Library/Python/3.9/lib/python/site-packages (from trio~=0.17->selenium) (2.4.0)\n",
      "Requirement already satisfied: outcome in /Users/chandler/Library/Python/3.9/lib/python/site-packages (from trio~=0.17->selenium) (1.3.0.post0)\n",
      "Requirement already satisfied: sniffio>=1.3.0 in /Users/chandler/Library/Python/3.9/lib/python/site-packages (from trio~=0.17->selenium) (1.3.1)\n",
      "Requirement already satisfied: exceptiongroup in /Users/chandler/Library/Python/3.9/lib/python/site-packages (from trio~=0.17->selenium) (1.2.2)\n",
      "Requirement already satisfied: wsproto>=0.14 in /Users/chandler/Library/Python/3.9/lib/python/site-packages (from trio-websocket~=0.9->selenium) (1.2.0)\n",
      "Requirement already satisfied: pysocks!=1.5.7,<2.0,>=1.5.6 in /Users/chandler/Library/Python/3.9/lib/python/site-packages (from urllib3[socks]<3,>=1.26->selenium) (1.7.1)\n",
      "Requirement already satisfied: h11<1,>=0.9.0 in /Users/chandler/Library/Python/3.9/lib/python/site-packages (from wsproto>=0.14->trio-websocket~=0.9->selenium) (0.14.0)\n",
      "Note: you may need to restart the kernel to use updated packages.\n"
     ]
    }
   ],
   "source": [
    "%pip install beautifulsoup4 requests selenium pandas python-dotenv webdriver-manager\n"
   ]
  },
  {
   "cell_type": "markdown",
   "metadata": {},
   "source": [
    "# Get private credentials"
   ]
  },
  {
   "cell_type": "code",
   "execution_count": 13,
   "metadata": {},
   "outputs": [
    {
     "name": "stdout",
     "output_type": "stream",
     "text": [
      "['Overivew of KSM159PS Stand Mixer', '', '', '', '', '', '', '', '', '', '', 'Amazon Customer', 'Amazon Customer', 'Mela Di', 'AmznAddict', 'MelB33', 'HYPNOJADE', 'Nancy J Lucas', 'Angela Fenn', 'Karen Keith', 'Kindle Customer', 'Hector Ponce', 'Ana', 'BR from Canada', 'Louise', 'Louise', 'Herlinda Canto V']\n"
     ]
    }
   ],
   "source": [
    "# Load reviews\n",
    "\n",
    "# import module \n",
    "import requests \n",
    "from bs4 import BeautifulSoup \n",
    "\n",
    "HEADERS = {\n",
    "    'User-Agent': 'Mozilla/5.0 (Windows NT 10.0; Win64; x64) AppleWebKit/537.36 (KHTML, like Gecko) Chrome/124.0.0.0 Safari/537.36',\n",
    "    'Accept-Language': 'en-US,en;q=0.9',\n",
    "}\n",
    "  \n",
    "# user define function \n",
    "# Scrape the data \n",
    "def getdata(url): \n",
    "    r = requests.get(url, headers=HEADERS) \n",
    "    return r.text \n",
    "  \n",
    "  \n",
    "def html_code(url): \n",
    "  \n",
    "    # pass the url \n",
    "    # into getdata function \n",
    "    htmldata = getdata(url) \n",
    "    soup = BeautifulSoup(htmldata, 'html.parser') \n",
    "  \n",
    "    # display html code \n",
    "    return (soup) \n",
    "  \n",
    "  \n",
    "url = \"https://www.amazon.com/KitchenAid-Artisan-Tilt-Head-KSM150PSDC-Cardamom/dp/B0DN6W791V?pf_rd_p=ad917dc6-5238-4ae8-bf68-b9c6a92e846b&pf_rd_r=KC4ZWRVCEMA2EQJM1254&ref_=HMHOL24_B0DN6W791V\"\n",
    "  \n",
    "soup = html_code(url) \n",
    "\n",
    "# Template for finding items with class a-profile-name\n",
    "def cus_data(soup): \n",
    "    # find the Html tag \n",
    "    # with find() \n",
    "    # and convert into string \n",
    "    data_str = \"\" \n",
    "    cus_list = [] \n",
    "  \n",
    "    for item in soup.find_all(\"span\", class_=\"a-profile-name\"): \n",
    "        data_str = data_str + item.get_text() \n",
    "        cus_list.append(data_str) \n",
    "        data_str = \"\" \n",
    "    return cus_list \n",
    "  \n",
    "  \n",
    "cus_res = cus_data(soup) \n",
    "print(cus_res) "
   ]
  }
 ],
 "metadata": {
  "kernelspec": {
   "display_name": "Python 3",
   "language": "python",
   "name": "python3"
  },
  "language_info": {
   "codemirror_mode": {
    "name": "ipython",
    "version": 3
   },
   "file_extension": ".py",
   "mimetype": "text/x-python",
   "name": "python",
   "nbconvert_exporter": "python",
   "pygments_lexer": "ipython3",
   "version": "3.9.6"
  }
 },
 "nbformat": 4,
 "nbformat_minor": 2
}
