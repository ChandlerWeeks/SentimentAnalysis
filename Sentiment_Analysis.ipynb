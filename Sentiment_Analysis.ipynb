{
 "cells": [
  {
   "cell_type": "markdown",
   "id": "67a90b34",
   "metadata": {},
   "source": [
    "# data loading and analysis\n",
    "\n",
    "load the dataset of 1600000 tweets, 0 means negative whill 4 means positive. Assign columns to the rows and print information about each column for analysis."
   ]
  },
  {
   "cell_type": "code",
   "execution_count": 21,
   "id": "04d45a92",
   "metadata": {},
   "outputs": [
    {
     "name": "stdout",
     "output_type": "stream",
     "text": [
      "dataframes first 5 rows: \n",
      "   target          id                          date      flag  \\\n",
      "0       0  1467810369  Mon Apr 06 22:19:45 PDT 2009  NO_QUERY   \n",
      "1       0  1467810672  Mon Apr 06 22:19:49 PDT 2009  NO_QUERY   \n",
      "2       0  1467810917  Mon Apr 06 22:19:53 PDT 2009  NO_QUERY   \n",
      "3       0  1467811184  Mon Apr 06 22:19:57 PDT 2009  NO_QUERY   \n",
      "4       0  1467811193  Mon Apr 06 22:19:57 PDT 2009  NO_QUERY   \n",
      "\n",
      "              user                                               text  \n",
      "0  _TheSpecialOne_  @switchfoot http://twitpic.com/2y1zl - Awww, t...  \n",
      "1    scotthamilton  is upset that he can't update his Facebook by ...  \n",
      "2         mattycus  @Kenichan I dived many times for the ball. Man...  \n",
      "3          ElleCTF    my whole body feels itchy and like its on fire   \n",
      "4           Karoli  @nationwideclass no, it's not behaving at all....  \n",
      "\n",
      "dataframe columns:\n",
      "target\n",
      "id\n",
      "date\n",
      "flag\n",
      "user\n",
      "text\n",
      "\n",
      "dataframe shape:\n",
      "(1600000, 6)\n"
     ]
    }
   ],
   "source": [
    "import pandas as pd\n",
    "import numpy as np\n",
    "\n",
    "columns = [\"target\", \"id\", \"date\", \"flag\", \"user\", \"text\"]\n",
    "mapping = {0: \"negative\", 4: \"positive\"}\n",
    "\n",
    "data_path = \"./data/1_600_000tweets.csv\"\n",
    "df = pd.read_csv(data_path, encoding=\"ISO-8859-1\", low_memory=False, names=columns)\n",
    "print(\"dataframes first 5 rows: \")\n",
    "print(df.head(5))\n",
    "\n",
    "print()\n",
    "\n",
    "print(\"dataframe columns:\")\n",
    "for col in df.columns:\n",
    "    print(col)\n",
    "\n",
    "print()\n",
    "\n",
    "print(\"dataframe shape:\")\n",
    "print(df.shape)"
   ]
  },
  {
   "cell_type": "markdown",
   "id": "213645b3",
   "metadata": {},
   "source": [
    "Analyze the dataset, the distribution of positive and negative sentiments should be even. "
   ]
  },
  {
   "cell_type": "code",
   "execution_count": 22,
   "id": "bf04bc6e",
   "metadata": {},
   "outputs": [
    {
     "name": "stdout",
     "output_type": "stream",
     "text": [
      "distribution of values is 50/50\n"
     ]
    },
    {
     "data": {
      "image/png": "[encoded data removed]",
      "text/plain": [
       "<Figure size 1600x800 with 1 Axes>"
      ]
     },
     "metadata": {},
     "output_type": "display_data"
    }
   ],
   "source": [
    "import matplotlib.pyplot as plt\n",
    "from collections import Counter\n",
    "\n",
    "targets = Counter(df.target)\n",
    "\n",
    "# replace target values with their labels\n",
    "for k, v in mapping.items():\n",
    "    targets[v] = targets.pop(k)\n",
    "\n",
    "plt.figure(figsize=(16, 8))\n",
    "plt.bar(targets.keys(), targets.values())\n",
    "plt.title(\"distribution of values\")\n",
    "\n",
    "print(\"distribution of values is 50/50\")\n",
    "plt.show()"
   ]
  },
  {
   "cell_type": "markdown",
   "id": "f0a1e7bc",
   "metadata": {},
   "source": [
    "# Data preprocessing\n",
    "\n",
    "Start my removing links, @ mentions, hashtags, and mass spaces for cleaner more consistent data"
   ]
  },
  {
   "cell_type": "code",
   "execution_count": 23,
   "id": "48012ba2",
   "metadata": {},
   "outputs": [],
   "source": [
    "import re\n",
    "\n",
    "def preprocess(text):\n",
    "    # remove links\n",
    "    text = re.sub(r\"http\\S+|www\\S+|https\\S+\", \"\", text, flags=re.MULTILINE)\n",
    "    # remove user mentions\n",
    "    text = re.sub(r\"@\\w+\", \"\", text)\n",
    "    # remove hashtags\n",
    "    text = re.sub(r\"#\\w+\", \"\", text)\n",
    "    # remove special characters\n",
    "    text = re.sub(r\"[^A-Za-z0-9\\s]\", \"\", text)\n",
    "    # remove extra spaces\n",
    "    text = re.sub(r\"\\s+\", \" \", text).strip()\n",
    "    return text\n",
    "\n",
    "# apply the preprocessing function to the text column\n",
    "df[\"text\"] = df[\"text\"].apply(preprocess)"
   ]
  },
  {
   "cell_type": "markdown",
   "id": "cb470209",
   "metadata": {},
   "source": [
    "Drop stop words too. stop words are words that add no context to the sentiment, such as the noun or pronoun. a stemmer breaks words into smaller subwords, for example adjustable -> adjust."
   ]
  },
  {
   "cell_type": "code",
   "execution_count": 24,
   "id": "98bcd0c6",
   "metadata": {},
   "outputs": [
    {
     "name": "stderr",
     "output_type": "stream",
     "text": [
      "[nltk_data] Downloading package stopwords to\n",
      "[nltk_data]     C:\\Users\\chand\\AppData\\Roaming\\nltk_data...\n",
      "[nltk_data]   Package stopwords is already up-to-date!\n"
     ]
    }
   ],
   "source": [
    "import nltk\n",
    "nltk.download('stopwords')\n",
    "import re\n",
    "from nltk.corpus import stopwords\n",
    "from nltk.stem import SnowballStemmer\n",
    "\n",
    "stop_words = stopwords.words('english')\n",
    "stemmer = SnowballStemmer(\"english\")\n",
    "\n",
    "def preprocess_text(text):\n",
    "  tokens = []\n",
    "  for token in text.split():\n",
    "    if token not in stop_words:\n",
    "      tokens.append(stemmer.stem(token))\n",
    "  return \" \".join(tokens)\n",
    "\n",
    "# apply the preprocessing function to the text column\n",
    "df[\"text\"] = df[\"text\"].apply(preprocess_text)"
   ]
  },
  {
   "cell_type": "markdown",
   "id": "b1d73c99",
   "metadata": {},
   "source": [
    "Remove uneccessary columns, reduce span from 0-4 with 0 being negative, and 1 being positive"
   ]
  },
  {
   "cell_type": "code",
   "execution_count": null,
   "id": "f771101f",
   "metadata": {},
   "outputs": [
    {
     "name": "stdout",
     "output_type": "stream",
     "text": [
      "   target                                               text\n",
      "0       0  a that bummer you shoulda got david carr third...\n",
      "1       0  upset cant updat facebook text might cri resul...\n",
      "2       0  i dive mani time ball manag save 50 the rest g...\n",
      "3       0                    whole bodi feel itchi like fire\n",
      "4       0                            behav im mad i cant see\n"
     ]
    }
   ],
   "source": [
    "# drop the unnecessary columns if they exist\n",
    "if \"id\" in df.columns and \"date\" in df.columns and \"flag\" in df.columns and \"user\" in df.columns:\n",
    "    df = df.drop(columns=[\"id\", \"date\", \"flag\", \"user\"])\n",
    "\n",
    "# Repalce 4 with 1\n",
    "df[\"target\"] = df[\"target\"].replace(4, 1)\n",
    "mapping = {0: \"negative\", 1: \"positive\"}\n",
    "\n",
    "print(df.head(5))"
   ]
  },
  {
   "cell_type": "markdown",
   "id": "04067b4a",
   "metadata": {},
   "source": [
    "# Train/Test Split\n",
    "\n",
    "break the dataset into a testing and training dataset, where training is used to fit the model while testing is used to validate the model"
   ]
  },
  {
   "cell_type": "code",
   "execution_count": 26,
   "id": "2be7ad91",
   "metadata": {},
   "outputs": [
    {
     "name": "stdout",
     "output_type": "stream",
     "text": [
      "train data shape:  (1360000, 2)\n",
      "test data shape:  (240000, 2)\n"
     ]
    }
   ],
   "source": [
    "from sklearn.model_selection import train_test_split\n",
    "\n",
    "train_data, test_data = train_test_split(df, test_size=0.15, random_state=42)\n",
    "\n",
    "print(\"train data shape: \", train_data.shape)\n",
    "print(\"test data shape: \", test_data.shape)"
   ]
  },
  {
   "cell_type": "markdown",
   "id": "67435813",
   "metadata": {},
   "source": [
    "# Tokenization"
   ]
  },
  {
   "cell_type": "code",
   "execution_count": 27,
   "id": "303f34e4",
   "metadata": {},
   "outputs": [
    {
     "name": "stdout",
     "output_type": "stream",
     "text": [
      "vocab size:  336497\n"
     ]
    }
   ],
   "source": [
    "# Break sentences into their words\n",
    "import tensorflow as tf\n",
    "from tensorflow.keras.preprocessing.text import Tokenizer\n",
    "\n",
    "tokenizer = Tokenizer()\n",
    "tokenizer.fit_on_texts(train_data.text)\n",
    "\n",
    "vocab_size = len(tokenizer.word_index) + 1\n",
    "print(\"vocab size: \", vocab_size)"
   ]
  },
  {
   "cell_type": "code",
   "execution_count": 28,
   "id": "8437de6f",
   "metadata": {},
   "outputs": [
    {
     "name": "stdout",
     "output_type": "stream",
     "text": [
      "x_train shape:  (1360000, 50)\n",
      "x_test shape:  (240000, 50)\n"
     ]
    }
   ],
   "source": [
    "# Make sure sequences arethe same length\n",
    "from tensorflow.keras.preprocessing.sequence import pad_sequences\n",
    "\n",
    "x_train = pad_sequences(tokenizer.texts_to_sequences(train_data.text), maxlen=50)\n",
    "x_test = pad_sequences(tokenizer.texts_to_sequences(test_data.text), maxlen=50)\n",
    "\n",
    "print(\"x_train shape: \", x_train.shape)\n",
    "print(\"x_test shape: \", x_test.shape)"
   ]
  },
  {
   "cell_type": "code",
   "execution_count": 34,
   "id": "117eaec4",
   "metadata": {},
   "outputs": [
    {
     "name": "stdout",
     "output_type": "stream",
     "text": [
      "y_train shape: (1360000, 1)\n",
      "y_test shape: (240000, 1)\n"
     ]
    }
   ],
   "source": [
    "from sklearn.preprocessing import LabelEncoder\n",
    "\n",
    "encoder = LabelEncoder()\n",
    "encoder.fit(train_data.target.to_list())\n",
    "\n",
    "y_train = encoder.transform(train_data.target.to_list())\n",
    "y_test = encoder.transform(test_data.target.to_list())\n",
    "\n",
    "y_train = y_train.reshape(-1,1)\n",
    "y_test = y_test.reshape(-1,1)\n",
    "\n",
    "print(\"y_train shape:\", y_train.shape)\n",
    "print(\"y_test shape:\", y_test.shape)"
   ]
  },
  {
   "cell_type": "markdown",
   "id": "2764214e",
   "metadata": {},
   "source": [
    "Word embedding - words kinda are unusable as text, turn it into a useable vector"
   ]
  },
  {
   "cell_type": "code",
   "execution_count": 35,
   "id": "cc19c0b3",
   "metadata": {},
   "outputs": [
    {
     "name": "stdout",
     "output_type": "stream",
     "text": [
      "Done.\n"
     ]
    }
   ],
   "source": [
    "import urllib.request\n",
    "import zipfile\n",
    "import os\n",
    "\n",
    "# WARNING: BIG FILE\n",
    "url = 'http://nlp.stanford.edu/data/glove.6B.zip'\n",
    "glove_zip_path = 'glove.6B.zip'\n",
    "glove_dir = 'glove.6B'\n",
    "\n",
    "# Download\n",
    "if not os.path.exists(glove_zip_path):\n",
    "    print(\"Downloading GloVe embeddings...\")\n",
    "    urllib.request.urlretrieve(url, glove_zip_path)\n",
    "\n",
    "# Unzip\n",
    "if not os.path.exists(glove_dir):\n",
    "    print(\"Unzipping...\")\n",
    "    with zipfile.ZipFile(glove_zip_path, 'r') as zip_ref:\n",
    "        zip_ref.extractall(glove_dir)\n",
    "\n",
    "print(\"Done.\")\n"
   ]
  },
  {
   "cell_type": "code",
   "execution_count": 36,
   "id": "deefd83a",
   "metadata": {},
   "outputs": [
    {
     "name": "stderr",
     "output_type": "stream",
     "text": [
      "c:\\Users\\chand\\AppData\\Local\\Programs\\Python\\Python312\\Lib\\site-packages\\keras\\src\\layers\\core\\embedding.py:90: UserWarning: Argument `input_length` is deprecated. Just remove it.\n",
      "  warnings.warn(\n"
     ]
    }
   ],
   "source": [
    "import numpy as np\n",
    "from tensorflow.keras.models import Sequential\n",
    "from tensorflow.keras.layers import Embedding, LSTM, Dense\n",
    "\n",
    "# Load GloVe\n",
    "embedding_index = {}\n",
    "with open('glove.6B/glove.6B.100d.txt', encoding='utf8') as f:\n",
    "    for line in f:\n",
    "        values = line.split()\n",
    "        word = values[0]\n",
    "        coefs = np.asarray(values[1:], dtype='float32')\n",
    "        embedding_index[word] = coefs\n",
    "\n",
    "# Prepare embedding matrix\n",
    "embedding_matrix = np.zeros((vocab_size, 100))\n",
    "for word, i in tokenizer.word_index.items():\n",
    "    embedding_vector = embedding_index.get(word)\n",
    "    if embedding_vector is not None:\n",
    "        embedding_matrix[i] = embedding_vector\n",
    "\n",
    "embedding_layer = tf.keras.layers.Embedding(\n",
    "    vocab_size,\n",
    "    100,\n",
    "    weights=embedding_matrix,\n",
    "    input_length=50,\n",
    "    trainable=False\n",
    ")"
   ]
  },
  {
   "cell_type": "markdown",
   "id": "055d3696",
   "metadata": {},
   "source": [
    "# Build the model"
   ]
  },
  {
   "cell_type": "code",
   "execution_count": 37,
   "id": "f4aa4ef4",
   "metadata": {},
   "outputs": [
    {
     "name": "stdout",
     "output_type": "stream",
     "text": [
      "Training on CPU...\n"
     ]
    }
   ],
   "source": [
    "from tensorflow.keras.layers import Conv1D, Bidirectional, LSTM, Dense, Input, Dropout\n",
    "from tensorflow.keras.layers import SpatialDropout1D\n",
    "from tensorflow.keras.callbacks import ModelCheckpoint\n",
    "from tensorflow.keras.optimizers import Adam\n",
    "from tensorflow.keras.callbacks import ReduceLROnPlateau\n",
    "\n",
    "sequence_input = Input(shape=(50,), dtype='int32')\n",
    "embedding_sequences = embedding_layer(sequence_input)\n",
    "x = SpatialDropout1D(0.2)(embedding_sequences)\n",
    "x = Conv1D(64, 5, activation='relu')(x)\n",
    "x = Bidirectional(LSTM(64, dropout=0.2, recurrent_dropout=0.2))(x)\n",
    "x = Dense(512, activation='relu')(x)\n",
    "x = Dropout(0.5)(x)\n",
    "x = Dense(512, activation='relu')(x)\n",
    "outputs = Dense(1, activation='sigmoid')(x)\n",
    "model = tf.keras.Model(sequence_input, outputs)\n",
    "\n",
    "model.compile(optimizer=Adam(learning_rate=0.001), loss='binary_crossentropy',\n",
    "              metrics=['accuracy'])\n",
    "ReduceLROnPlateau = ReduceLROnPlateau(factor=0.1,\n",
    "                                     min_lr = 0.01,\n",
    "                                     monitor = 'val_loss',\n",
    "                                     verbose = 1)\n",
    "\n",
    "print(\"Training on GPU...\") if tf.test.is_gpu_available() else print(\"Training on CPU...\")"
   ]
  },
  {
   "cell_type": "code",
   "execution_count": 40,
   "id": "411ff61d",
   "metadata": {},
   "outputs": [
    {
     "name": "stdout",
     "output_type": "stream",
     "text": [
      "Epoch 1/15\n",
      "\u001b[1m1329/1329\u001b[0m \u001b[32m━━━━━━━━━━━━━━━━━━━━\u001b[0m\u001b[37m\u001b[0m \u001b[1m100s\u001b[0m 76ms/step - accuracy: 0.7623 - loss: 0.4861 - val_accuracy: 0.7695 - val_loss: 0.4740 - learning_rate: 0.0010\n",
      "Epoch 2/15\n",
      "\u001b[1m1329/1329\u001b[0m \u001b[32m━━━━━━━━━━━━━━━━━━━━\u001b[0m\u001b[37m\u001b[0m \u001b[1m101s\u001b[0m 76ms/step - accuracy: 0.7629 - loss: 0.4852 - val_accuracy: 0.7708 - val_loss: 0.4729 - learning_rate: 0.0010\n",
      "Epoch 3/15\n",
      "\u001b[1m1329/1329\u001b[0m \u001b[32m━━━━━━━━━━━━━━━━━━━━\u001b[0m\u001b[37m\u001b[0m \u001b[1m100s\u001b[0m 75ms/step - accuracy: 0.7637 - loss: 0.4843 - val_accuracy: 0.7691 - val_loss: 0.4759 - learning_rate: 0.0010\n",
      "Epoch 4/15\n",
      "\u001b[1m1329/1329\u001b[0m \u001b[32m━━━━━━━━━━━━━━━━━━━━\u001b[0m\u001b[37m\u001b[0m \u001b[1m101s\u001b[0m 76ms/step - accuracy: 0.7639 - loss: 0.4829 - val_accuracy: 0.7721 - val_loss: 0.4716 - learning_rate: 0.0010\n",
      "Epoch 5/15\n",
      "\u001b[1m1329/1329\u001b[0m \u001b[32m━━━━━━━━━━━━━━━━━━━━\u001b[0m\u001b[37m\u001b[0m \u001b[1m99s\u001b[0m 75ms/step - accuracy: 0.7653 - loss: 0.4820 - val_accuracy: 0.7726 - val_loss: 0.4711 - learning_rate: 0.0010\n",
      "Epoch 6/15\n",
      "\u001b[1m1329/1329\u001b[0m \u001b[32m━━━━━━━━━━━━━━━━━━━━\u001b[0m\u001b[37m\u001b[0m \u001b[1m99s\u001b[0m 74ms/step - accuracy: 0.7640 - loss: 0.4826 - val_accuracy: 0.7721 - val_loss: 0.4718 - learning_rate: 0.0010\n",
      "Epoch 7/15\n",
      "\u001b[1m1329/1329\u001b[0m \u001b[32m━━━━━━━━━━━━━━━━━━━━\u001b[0m\u001b[37m\u001b[0m \u001b[1m99s\u001b[0m 74ms/step - accuracy: 0.7655 - loss: 0.4816 - val_accuracy: 0.7727 - val_loss: 0.4705 - learning_rate: 0.0010\n",
      "Epoch 8/15\n",
      "\u001b[1m1329/1329\u001b[0m \u001b[32m━━━━━━━━━━━━━━━━━━━━\u001b[0m\u001b[37m\u001b[0m \u001b[1m99s\u001b[0m 74ms/step - accuracy: 0.7660 - loss: 0.4808 - val_accuracy: 0.7728 - val_loss: 0.4701 - learning_rate: 0.0010\n",
      "Epoch 9/15\n",
      "\u001b[1m1329/1329\u001b[0m \u001b[32m━━━━━━━━━━━━━━━━━━━━\u001b[0m\u001b[37m\u001b[0m \u001b[1m101s\u001b[0m 76ms/step - accuracy: 0.7666 - loss: 0.4801 - val_accuracy: 0.7734 - val_loss: 0.4718 - learning_rate: 0.0010\n",
      "Epoch 10/15\n",
      "\u001b[1m1329/1329\u001b[0m \u001b[32m━━━━━━━━━━━━━━━━━━━━\u001b[0m\u001b[37m\u001b[0m \u001b[1m100s\u001b[0m 75ms/step - accuracy: 0.7664 - loss: 0.4802 - val_accuracy: 0.7733 - val_loss: 0.4687 - learning_rate: 0.0010\n",
      "Epoch 11/15\n",
      "\u001b[1m1329/1329\u001b[0m \u001b[32m━━━━━━━━━━━━━━━━━━━━\u001b[0m\u001b[37m\u001b[0m \u001b[1m99s\u001b[0m 75ms/step - accuracy: 0.7667 - loss: 0.4794 - val_accuracy: 0.7741 - val_loss: 0.4687 - learning_rate: 0.0010\n",
      "Epoch 12/15\n",
      "\u001b[1m1329/1329\u001b[0m \u001b[32m━━━━━━━━━━━━━━━━━━━━\u001b[0m\u001b[37m\u001b[0m \u001b[1m102s\u001b[0m 77ms/step - accuracy: 0.7666 - loss: 0.4793 - val_accuracy: 0.7736 - val_loss: 0.4687 - learning_rate: 0.0010\n",
      "Epoch 13/15\n",
      "\u001b[1m1329/1329\u001b[0m \u001b[32m━━━━━━━━━━━━━━━━━━━━\u001b[0m\u001b[37m\u001b[0m \u001b[1m104s\u001b[0m 78ms/step - accuracy: 0.7670 - loss: 0.4784 - val_accuracy: 0.7738 - val_loss: 0.4681 - learning_rate: 0.0010\n",
      "Epoch 14/15\n",
      "\u001b[1m1329/1329\u001b[0m \u001b[32m━━━━━━━━━━━━━━━━━━━━\u001b[0m\u001b[37m\u001b[0m \u001b[1m105s\u001b[0m 79ms/step - accuracy: 0.7680 - loss: 0.4773 - val_accuracy: 0.7734 - val_loss: 0.4718 - learning_rate: 0.0010\n",
      "Epoch 15/15\n",
      "\u001b[1m1329/1329\u001b[0m \u001b[32m━━━━━━━━━━━━━━━━━━━━\u001b[0m\u001b[37m\u001b[0m \u001b[1m107s\u001b[0m 80ms/step - accuracy: 0.7681 - loss: 0.4769 - val_accuracy: 0.7741 - val_loss: 0.4693 - learning_rate: 0.0010\n"
     ]
    }
   ],
   "source": [
    "history = model.fit(x_train, y_train, batch_size=1024, epochs=15,\n",
    "                    validation_data=(x_test, y_test), callbacks=[ReduceLROnPlateau])"
   ]
  },
  {
   "cell_type": "markdown",
   "id": "b935dcc0",
   "metadata": {},
   "source": [
    "# Model Evaluation"
   ]
  },
  {
   "cell_type": "code",
   "execution_count": 55,
   "id": "de2f7641",
   "metadata": {},
   "outputs": [
    {
     "name": "stdout",
     "output_type": "stream",
     "text": [
      "\u001b[1m7500/7500\u001b[0m \u001b[32m━━━━━━━━━━━━━━━━━━━━\u001b[0m\u001b[37m\u001b[0m \u001b[1m32s\u001b[0m 4ms/step\n",
      "              precision    recall  f1-score   support\n",
      "\n",
      "           0       0.78      0.76      0.77    119825\n",
      "           1       0.77      0.79      0.78    120175\n",
      "\n",
      "    accuracy                           0.77    240000\n",
      "   macro avg       0.77      0.77      0.77    240000\n",
      "weighted avg       0.77      0.77      0.77    240000\n",
      "\n"
     ]
    }
   ],
   "source": [
    "from sklearn.metrics import classification_report\n",
    "import numpy as np\n",
    "\n",
    "# Get predictions\n",
    "y_pred_probs = model.predict(x_test)\n",
    "y_pred_1d = (y_pred_probs > 0.5).astype(int)\n",
    "y_true = y_test.flatten()\n",
    "\n",
    "# Print classification report\n",
    "print(classification_report(y_true, y_pred_1d))"
   ]
  },
  {
   "cell_type": "code",
   "execution_count": 57,
   "id": "6a6c589a",
   "metadata": {},
   "outputs": [
    {
     "name": "stdout",
     "output_type": "stream",
     "text": [
      "\u001b[1m1/1\u001b[0m \u001b[32m━━━━━━━━━━━━━━━━━━━━\u001b[0m\u001b[37m\u001b[0m \u001b[1m0s\u001b[0m 29ms/step\n",
      "Tweet: I absolutely despise everything about you, I hate you so much\n",
      "Predicted sentiment: negative\n",
      "Predicted probability: 0.12590545415878296\n",
      "\n",
      "Tweet: I was excited to try this product, but that feeling disappeared almost instantly\n",
      "Predicted sentiment: negative\n",
      "Predicted probability: 0.17235957086086273\n",
      "\n",
      "Tweet: This is absolutely fantastic, I love this so much, great work team!\n",
      "Predicted sentiment: positive\n",
      "Predicted probability: 0.8959451913833618\n",
      "\n",
      "Tweet: Whatever your personal gripe is with perry, never forget he turned Marsh into O'Hoppe, He's rebuilding from within\n",
      "Predicted sentiment: positive\n",
      "Predicted probability: 0.8964073657989502\n",
      "\n"
     ]
    }
   ],
   "source": [
    "# human evaluation\n",
    "columns = [\"target\", \"text\"]\n",
    "mean_tweet = [0, \"I absolutely despise everything about you, I hate you so much\"]\n",
    "misleading_negative = [0, \"I was excited to try this product, but that feeling disappeared almost instantly\"]\n",
    "nice_tweet = [1, \"This is absolutely fantastic, I love this so much, great work team!\"]\n",
    "misleading_positive = [1, \"Whatever your personal gripe is with perry, never forget he turned Marsh into O'Hoppe, He's rebuilding from within\"]\n",
    "\n",
    "df = pd.DataFrame([mean_tweet, misleading_negative, nice_tweet, misleading_positive], columns=columns)\n",
    "# Prepare data for prediction\n",
    "small_test = pad_sequences(tokenizer.texts_to_sequences(df.text), maxlen=50)\n",
    "y_pred_probs = model.predict(small_test)\n",
    "\n",
    "# Convert predictions to binary\n",
    "y_pred_1d = (y_pred_probs > 0.5).astype(int)\n",
    "# Print predictions\n",
    "for i in range(len(df)):\n",
    "    print(f\"Tweet: {df.text[i]}\")\n",
    "    print(f\"Predicted sentiment: {'positive' if y_pred_1d[i][0] == 1 else 'negative'}\")\n",
    "    print(f\"Predicted probability: {y_pred_probs[i][0]}\")\n",
    "    print()"
   ]
  }
 ],
 "metadata": {
  "kernelspec": {
   "display_name": "Python 3",
   "language": "python",
   "name": "python3"
  },
  "language_info": {
   "codemirror_mode": {
    "name": "ipython",
    "version": 3
   },
   "file_extension": ".py",
   "mimetype": "text/x-python",
   "name": "python",
   "nbconvert_exporter": "python",
   "pygments_lexer": "ipython3",
   "version": "3.12.10"
  }
 },
 "nbformat": 4,
 "nbformat_minor": 5
}
