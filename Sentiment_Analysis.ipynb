{
  "cells": [
    {
      "cell_type": "markdown",
      "id": "67a90b34",
      "metadata": {
        "id": "67a90b34"
      },
      "source": [
        "# data loading and analysis"
      ]
    },
    {
      "cell_type": "code",
      "execution_count": 15,
      "id": "04d45a92",
      "metadata": {
        "colab": {
          "base_uri": "https://localhost:8080/"
        },
        "id": "04d45a92",
        "outputId": "02709e2f-d95a-4fa7-a22f-9602b7898a8e"
      },
      "outputs": [
        {
          "output_type": "stream",
          "name": "stdout",
          "text": [
            "Drive already mounted at /content/drive; to attempt to forcibly remount, call drive.mount(\"/content/drive\", force_remount=True).\n",
            "DataFrame first 5 rows:\n",
            "   target          id                          date      flag  \\\n",
            "0       0  1467810369  Mon Apr 06 22:19:45 PDT 2009  NO_QUERY   \n",
            "1       0  1467810672  Mon Apr 06 22:19:49 PDT 2009  NO_QUERY   \n",
            "2       0  1467810917  Mon Apr 06 22:19:53 PDT 2009  NO_QUERY   \n",
            "3       0  1467811184  Mon Apr 06 22:19:57 PDT 2009  NO_QUERY   \n",
            "4       0  1467811193  Mon Apr 06 22:19:57 PDT 2009  NO_QUERY   \n",
            "\n",
            "              user                                               text  \n",
            "0  _TheSpecialOne_  @switchfoot http://twitpic.com/2y1zl - Awww, t...  \n",
            "1    scotthamilton  is upset that he can't update his Facebook by ...  \n",
            "2         mattycus  @Kenichan I dived many times for the ball. Man...  \n",
            "3          ElleCTF    my whole body feels itchy and like its on fire   \n",
            "4           Karoli  @nationwideclass no, it's not behaving at all....   \n",
            "\n",
            "DataFrame columns:\n",
            "target\n",
            "id\n",
            "date\n",
            "flag\n",
            "user\n",
            "text\n",
            "\n",
            "DataFrame shape:\n",
            "(1600000, 6)\n"
          ]
        }
      ],
      "source": [
        "# 1. Mount your Google Drive (Colab)\n",
        "from google.colab import drive\n",
        "drive.mount('/content/drive')\n",
        "\n",
        "# 2. Imports\n",
        "import pandas as pd\n",
        "import numpy as np\n",
        "\n",
        "# 3. Your column names and mapping\n",
        "columns = [\"target\", \"id\", \"date\", \"flag\", \"user\", \"text\"]\n",
        "mapping = {0: \"negative\", 4: \"positive\"}\n",
        "\n",
        "# 4. Path to your file in Drive — update to match your folder structure\n",
        "data_path = '/content/drive/MyDrive/AI/1_600_000tweets.csv'\n",
        "\n",
        "# 5. Read it in\n",
        "df = pd.read_csv(\n",
        "    data_path,\n",
        "    encoding=\"ISO-8859-1\",\n",
        "    low_memory=False,\n",
        "    names=columns\n",
        ")\n",
        "\n",
        "# 6. Inspect\n",
        "print(\"DataFrame first 5 rows:\")\n",
        "print(df.head(5), \"\\n\")\n",
        "\n",
        "print(\"DataFrame columns:\")\n",
        "for col in df.columns:\n",
        "    print(col)\n",
        "print()\n",
        "\n",
        "print(\"DataFrame shape:\")\n",
        "print(df.shape)\n"
      ]
    },
    {
      "cell_type": "markdown",
      "id": "213645b3",
      "metadata": {
        "id": "213645b3"
      },
      "source": [
        "about the data, target is the sentiment (0 = negative, 4 = positive), text is the tweet. These are the most important parts of the dataset. Lets plot the sentiment."
      ]
    },
    {
      "cell_type": "code",
      "execution_count": 16,
      "id": "bf04bc6e",
      "metadata": {
        "colab": {
          "base_uri": "https://localhost:8080/",
          "height": 716
        },
        "id": "bf04bc6e",
        "outputId": "af3826b8-c97f-427f-d390-d4cd71f2b39b"
      },
      "outputs": [
        {
          "output_type": "stream",
          "name": "stdout",
          "text": [
            "distribution of values is 50/50\n"
          ]
        },
        {
          "output_type": "display_data",
          "data": {
            "text/plain": [
              "<Figure size 1600x800 with 1 Axes>"
            ],
            "image/png": "[encoded data removed]"
          },
          "metadata": {}
        }
      ],
      "source": [
        "import matplotlib.pyplot as plt\n",
        "from collections import Counter\n",
        "\n",
        "targets = Counter(df.target)\n",
        "\n",
        "# replace target values with their labels\n",
        "for k, v in mapping.items():\n",
        "    targets[v] = targets.pop(k)\n",
        "\n",
        "plt.figure(figsize=(16, 8))\n",
        "plt.bar(targets.keys(), targets.values())\n",
        "plt.title(\"distribution of values\")\n",
        "\n",
        "print(\"distribution of values is 50/50\")\n",
        "plt.show()"
      ]
    },
    {
      "cell_type": "markdown",
      "id": "f0a1e7bc",
      "metadata": {
        "id": "f0a1e7bc"
      },
      "source": [
        "# Data preprocessing\n",
        "\n",
        "lets remove thinks like links, irregular characters, and twitter mentions, that do not contrbiute to the sentiment"
      ]
    },
    {
      "cell_type": "code",
      "execution_count": 17,
      "id": "48012ba2",
      "metadata": {
        "id": "48012ba2"
      },
      "outputs": [],
      "source": [
        "import re\n",
        "\n",
        "def preprocess(text):\n",
        "    # remove links\n",
        "    text = re.sub(r\"http\\S+|www\\S+|https\\S+\", \"\", text, flags=re.MULTILINE)\n",
        "    # remove user mentions\n",
        "    text = re.sub(r\"@\\w+\", \"\", text)\n",
        "    # remove hashtags\n",
        "    text = re.sub(r\"#\\w+\", \"\", text)\n",
        "    # remove special characters\n",
        "    text = re.sub(r\"[^A-Za-z0-9\\s]\", \"\", text)\n",
        "    # remove extra spaces\n",
        "    text = re.sub(r\"\\s+\", \" \", text).strip()\n",
        "    return text\n",
        "\n",
        "# apply the preprocessing function to the text column\n",
        "df[\"text\"] = df[\"text\"].apply(preprocess)"
      ]
    },
    {
      "cell_type": "markdown",
      "id": "cb470209",
      "metadata": {
        "id": "cb470209"
      },
      "source": [
        "Drop stop words too. stop words are words that add no context to the sentiment, such as the noun. a stemmer breaks words into smaller subwords, for example adjustable -> adjust."
      ]
    },
    {
      "cell_type": "code",
      "execution_count": 18,
      "id": "98bcd0c6",
      "metadata": {
        "colab": {
          "base_uri": "https://localhost:8080/"
        },
        "id": "98bcd0c6",
        "outputId": "75337b8e-2e23-479f-8044-3c1a357e8ebe"
      },
      "outputs": [
        {
          "output_type": "stream",
          "name": "stderr",
          "text": [
            "[nltk_data] Downloading package stopwords to /root/nltk_data...\n",
            "[nltk_data]   Unzipping corpora/stopwords.zip.\n"
          ]
        }
      ],
      "source": [
        "import nltk\n",
        "nltk.download('stopwords')\n",
        "import re\n",
        "from nltk.corpus import stopwords\n",
        "from nltk.stem import SnowballStemmer\n",
        "\n",
        "stop_words = stopwords.words('english')\n",
        "stemmer = SnowballStemmer(\"english\")\n",
        "\n",
        "def preprocess_text(text):\n",
        "  tokens = []\n",
        "  for token in text.split():\n",
        "    if token not in stop_words:\n",
        "      tokens.append(stemmer.stem(token))\n",
        "  return \" \".join(tokens)\n",
        "\n",
        "# apply the preprocessing function to the text column\n",
        "df[\"text\"] = df[\"text\"].apply(preprocess_text)"
      ]
    },
    {
      "cell_type": "markdown",
      "id": "b1d73c99",
      "metadata": {
        "id": "b1d73c99"
      },
      "source": [
        "All we really care about is the sentiment and text honestly. Reduce data size by transforming to this."
      ]
    },
    {
      "cell_type": "code",
      "execution_count": 19,
      "id": "f771101f",
      "metadata": {
        "colab": {
          "base_uri": "https://localhost:8080/"
        },
        "id": "f771101f",
        "outputId": "c12d86ca-926c-4840-b427-578bc08b26b7"
      },
      "outputs": [
        {
          "output_type": "stream",
          "name": "stdout",
          "text": [
            "   target                                               text\n",
            "0       0  a that bummer you shoulda got david carr third...\n",
            "1       0  upset cant updat facebook text might cri resul...\n",
            "2       0  i dive mani time ball manag save 50 the rest g...\n",
            "3       0                    whole bodi feel itchi like fire\n",
            "4       0                            behav im mad i cant see\n"
          ]
        }
      ],
      "source": [
        "# drop the unnecessary columns if they exist\n",
        "if \"id\" in df.columns and \"date\" in df.columns and \"flag\" in df.columns and \"user\" in df.columns:\n",
        "    df = df.drop(columns=[\"id\", \"date\", \"flag\", \"user\"])\n",
        "\n",
        "print(df.head(5))"
      ]
    },
    {
      "cell_type": "markdown",
      "id": "75224950",
      "metadata": {
        "id": "75224950"
      },
      "source": [
        "### TODO : Next steps : word embedding - simulate a function similar to Word2Vec, which converts the language into a useable vector format."
      ]
    },
    {
      "cell_type": "markdown",
      "id": "04067b4a",
      "metadata": {
        "id": "04067b4a"
      },
      "source": [
        "# Split into training and testing"
      ]
    },
    {
      "cell_type": "code",
      "execution_count": 20,
      "id": "2be7ad91",
      "metadata": {
        "colab": {
          "base_uri": "https://localhost:8080/"
        },
        "id": "2be7ad91",
        "outputId": "d0c3e2e5-4366-4cc5-c9f5-a5e9d2e6388f"
      },
      "outputs": [
        {
          "output_type": "stream",
          "name": "stdout",
          "text": [
            "train data shape:  (1360000, 2)\n",
            "test data shape:  (240000, 2)\n"
          ]
        }
      ],
      "source": [
        "from sklearn.model_selection import train_test_split\n",
        "\n",
        "train_data, test_data = train_test_split(df, test_size=0.15, random_state=42)\n",
        "\n",
        "print(\"train data shape: \", train_data.shape)\n",
        "print(\"test data shape: \", test_data.shape)"
      ]
    },
    {
      "cell_type": "markdown",
      "id": "67435813",
      "metadata": {
        "id": "67435813"
      },
      "source": [
        "# Tokenization"
      ]
    },
    {
      "cell_type": "code",
      "execution_count": 21,
      "id": "303f34e4",
      "metadata": {
        "colab": {
          "base_uri": "https://localhost:8080/"
        },
        "id": "303f34e4",
        "outputId": "88cb2f08-f801-41e0-bf72-1d7a2549e090"
      },
      "outputs": [
        {
          "output_type": "stream",
          "name": "stdout",
          "text": [
            "vocab size:  336497\n"
          ]
        }
      ],
      "source": [
        "# Break sentences into their words\n",
        "import tensorflow as tf\n",
        "from tensorflow.keras.preprocessing.text import Tokenizer\n",
        "\n",
        "tokenizer = Tokenizer()\n",
        "tokenizer.fit_on_texts(train_data.text)\n",
        "\n",
        "vocab_size = len(tokenizer.word_index) + 1\n",
        "print(\"vocab size: \", vocab_size)"
      ]
    },
    {
      "cell_type": "code",
      "execution_count": 22,
      "id": "8437de6f",
      "metadata": {
        "colab": {
          "base_uri": "https://localhost:8080/"
        },
        "id": "8437de6f",
        "outputId": "3bcfb723-621e-492b-9957-528c577ad6fb"
      },
      "outputs": [
        {
          "output_type": "stream",
          "name": "stdout",
          "text": [
            "x_train shape:  (1360000, 50)\n",
            "x_test shape:  (240000, 50)\n"
          ]
        }
      ],
      "source": [
        "# Make sure sequences arethe same length\n",
        "from tensorflow.keras.preprocessing.sequence import pad_sequences\n",
        "\n",
        "x_train = pad_sequences(tokenizer.texts_to_sequences(train_data.text), maxlen=50)\n",
        "x_test = pad_sequences(tokenizer.texts_to_sequences(test_data.text), maxlen=50)\n",
        "\n",
        "print(\"x_train shape: \", x_train.shape)\n",
        "print(\"x_test shape: \", x_test.shape)"
      ]
    },
    {
      "cell_type": "markdown",
      "id": "2764214e",
      "metadata": {
        "id": "2764214e"
      },
      "source": [
        "Word embedding - words kinda are unusable as text, turn it into a useable vector"
      ]
    },
    {
      "cell_type": "code",
      "execution_count": 23,
      "id": "cc19c0b3",
      "metadata": {
        "colab": {
          "base_uri": "https://localhost:8080/"
        },
        "id": "cc19c0b3",
        "outputId": "4169d557-d4f1-4442-b164-50d8989d4f95"
      },
      "outputs": [
        {
          "output_type": "stream",
          "name": "stdout",
          "text": [
            "Downloading GloVe embeddings...\n",
            "Unzipping...\n",
            "Done.\n"
          ]
        }
      ],
      "source": [
        "import urllib.request\n",
        "import zipfile\n",
        "import os\n",
        "\n",
        "# WARNING: BIG FILE\n",
        "url = 'http://nlp.stanford.edu/data/glove.6B.zip'\n",
        "glove_zip_path = 'glove.6B.zip'\n",
        "glove_dir = 'glove.6B'\n",
        "\n",
        "# Download\n",
        "if not os.path.exists(glove_zip_path):\n",
        "    print(\"Downloading GloVe embeddings...\")\n",
        "    urllib.request.urlretrieve(url, glove_zip_path)\n",
        "\n",
        "# Unzip\n",
        "if not os.path.exists(glove_dir):\n",
        "    print(\"Unzipping...\")\n",
        "    with zipfile.ZipFile(glove_zip_path, 'r') as zip_ref:\n",
        "        zip_ref.extractall(glove_dir)\n",
        "\n",
        "print(\"Done.\")\n"
      ]
    },
    {
      "cell_type": "code",
      "execution_count": 36,
      "id": "deefd83a",
      "metadata": {
        "id": "deefd83a"
      },
      "outputs": [],
      "source": [
        "import numpy as np\n",
        "from tensorflow.keras.models import Sequential\n",
        "from tensorflow.keras.layers import Embedding, LSTM, Dense\n",
        "\n",
        "# Load GloVe\n",
        "embedding_index = {}\n",
        "with open('glove.6B/glove.6B.100d.txt', encoding='utf8') as f:\n",
        "    for line in f:\n",
        "        values = line.split()\n",
        "        word = values[0]\n",
        "        coefs = np.asarray(values[1:], dtype='float32')\n",
        "        embedding_index[word] = coefs\n",
        "\n",
        "# Prepare embedding matrix\n",
        "embedding_dim = 100\n",
        "embedding_matrix = np.zeros((vocab_size, embedding_dim))\n",
        "for word, i in tokenizer.word_index.items():\n",
        "    embedding_vector = embedding_index.get(word)\n",
        "    if embedding_vector is not None:\n",
        "        embedding_matrix[i] = embedding_vector\n",
        "\n",
        "# Build model with pretrained embeddings\n",
        "model = Sequential([\n",
        "    Embedding(input_dim=vocab_size, output_dim=embedding_dim,\n",
        "              weights=[embedding_matrix], trainable=False),\n",
        "    LSTM(64, return_sequences=False),\n",
        "    Dense(1, activation='sigmoid')\n",
        "])\n"
      ]
    },
    {
      "cell_type": "markdown",
      "id": "055d3696",
      "metadata": {
        "id": "055d3696"
      },
      "source": [
        "# Build the model ??"
      ]
    },
    {
      "cell_type": "code",
      "source": [
        "model.compile(loss='binary_crossentropy', optimizer='adam', metrics=['accuracy'])\n",
        "\n",
        "y_train = train_data[\"target\"].apply(lambda x: 1 if x == 4 else 0).values\n",
        "y_test = test_data[\"target\"].apply(lambda x: 1 if x == 4 else 0).values\n",
        "\n",
        "history = model.fit(x_train, y_train, validation_split=0.2, epochs=5, batch_size=128)\n"
      ],
      "metadata": {
        "colab": {
          "base_uri": "https://localhost:8080/"
        },
        "id": "-qDa7ATSvdtL",
        "outputId": "b2e67152-6b1e-42c3-b685-8718568ce6f6"
      },
      "id": "-qDa7ATSvdtL",
      "execution_count": 38,
      "outputs": [
        {
          "output_type": "stream",
          "name": "stdout",
          "text": [
            "Epoch 1/5\n",
            "\u001b[1m8500/8500\u001b[0m \u001b[32m━━━━━━━━━━━━━━━━━━━━\u001b[0m\u001b[37m\u001b[0m \u001b[1m960s\u001b[0m 112ms/step - accuracy: 0.7249 - loss: 0.5381 - val_accuracy: 0.7627 - val_loss: 0.4859\n",
            "Epoch 2/5\n",
            "\u001b[1m8500/8500\u001b[0m \u001b[32m━━━━━━━━━━━━━━━━━━━━\u001b[0m\u001b[37m\u001b[0m \u001b[1m904s\u001b[0m 106ms/step - accuracy: 0.7662 - loss: 0.4810 - val_accuracy: 0.7661 - val_loss: 0.4800\n",
            "Epoch 3/5\n",
            "\u001b[1m8500/8500\u001b[0m \u001b[32m━━━━━━━━━━━━━━━━━━━━\u001b[0m\u001b[37m\u001b[0m \u001b[1m949s\u001b[0m 112ms/step - accuracy: 0.7744 - loss: 0.4682 - val_accuracy: 0.7730 - val_loss: 0.4708\n",
            "Epoch 4/5\n",
            "\u001b[1m8500/8500\u001b[0m \u001b[32m━━━━━━━━━━━━━━━━━━━━\u001b[0m\u001b[37m\u001b[0m \u001b[1m943s\u001b[0m 111ms/step - accuracy: 0.7791 - loss: 0.4607 - val_accuracy: 0.7733 - val_loss: 0.4696\n",
            "Epoch 5/5\n",
            "\u001b[1m8500/8500\u001b[0m \u001b[32m━━━━━━━━━━━━━━━━━━━━\u001b[0m\u001b[37m\u001b[0m \u001b[1m894s\u001b[0m 105ms/step - accuracy: 0.7828 - loss: 0.4547 - val_accuracy: 0.7734 - val_loss: 0.4702\n"
          ]
        }
      ]
    },
    {
      "cell_type": "code",
      "source": [
        "loss, accuracy = model.evaluate(x_test, y_test)\n",
        "print(f\"Test Accuracy: {accuracy * 100:.2f}%\")"
      ],
      "metadata": {
        "id": "o28wossuwKIW",
        "outputId": "556368cb-3228-419f-bdf4-7741dec456a6",
        "colab": {
          "base_uri": "https://localhost:8080/"
        }
      },
      "id": "o28wossuwKIW",
      "execution_count": 39,
      "outputs": [
        {
          "output_type": "stream",
          "name": "stdout",
          "text": [
            "\u001b[1m7500/7500\u001b[0m \u001b[32m━━━━━━━━━━━━━━━━━━━━\u001b[0m\u001b[37m\u001b[0m \u001b[1m102s\u001b[0m 13ms/step - accuracy: 0.7726 - loss: 0.4704\n",
            "Test Accuracy: 77.26%\n"
          ]
        }
      ]
    },
    {
      "cell_type": "code",
      "source": [
        "import matplotlib.pyplot as plt\n",
        "\n",
        "plt.plot(history.history['accuracy'], label='Train Accuracy')\n",
        "plt.plot(history.history['val_accuracy'], label='Val Accuracy')\n",
        "plt.title('Model Accuracy')\n",
        "plt.xlabel('Epoch')\n",
        "plt.ylabel('Accuracy')\n",
        "plt.legend()\n",
        "plt.show()"
      ],
      "metadata": {
        "id": "-lHpx2EzwLrd",
        "outputId": "cff00cbd-360b-4364-8472-a4cd22b866fc",
        "colab": {
          "base_uri": "https://localhost:8080/",
          "height": 472
        }
      },
      "id": "-lHpx2EzwLrd",
      "execution_count": 40,
      "outputs": [
        {
          "output_type": "display_data",
          "data": {
            "text/plain": [
              "<Figure size 640x480 with 1 Axes>"
            ],
            "image/png": "[encoded data removed]"
          },
          "metadata": {}
        }
      ]
    },
    {
      "cell_type": "code",
      "source": [
        "preds = model.predict(x_test[:10])\n",
        "for i, p in enumerate(preds):\n",
        "    print(f\"Predicted: {'positive' if p > 0.5 else 'negative'}, Actual: {'positive' if y_test[i] == 1 else 'negative'}\")\n"
      ],
      "metadata": {
        "id": "OmVNN-M3wNL-",
        "outputId": "fbcbb4f0-4988-48f2-8f24-98c784d46e44",
        "colab": {
          "base_uri": "https://localhost:8080/"
        }
      },
      "id": "OmVNN-M3wNL-",
      "execution_count": 41,
      "outputs": [
        {
          "output_type": "stream",
          "name": "stdout",
          "text": [
            "\u001b[1m1/1\u001b[0m \u001b[32m━━━━━━━━━━━━━━━━━━━━\u001b[0m\u001b[37m\u001b[0m \u001b[1m0s\u001b[0m 323ms/step\n",
            "Predicted: negative, Actual: negative\n",
            "Predicted: positive, Actual: negative\n",
            "Predicted: positive, Actual: negative\n",
            "Predicted: negative, Actual: negative\n",
            "Predicted: negative, Actual: negative\n",
            "Predicted: negative, Actual: negative\n",
            "Predicted: positive, Actual: positive\n",
            "Predicted: negative, Actual: negative\n",
            "Predicted: negative, Actual: negative\n",
            "Predicted: positive, Actual: positive\n"
          ]
        }
      ]
    }
  ],
  "metadata": {
    "kernelspec": {
      "display_name": "Python 3",
      "language": "python",
      "name": "python3"
    },
    "language_info": {
      "codemirror_mode": {
        "name": "ipython",
        "version": 3
      },
      "file_extension": ".py",
      "mimetype": "text/x-python",
      "name": "python",
      "nbconvert_exporter": "python",
      "pygments_lexer": "ipython3",
      "version": "3.12.10"
    },
    "colab": {
      "provenance": []
    }
  },
  "nbformat": 4,
  "nbformat_minor": 5
}